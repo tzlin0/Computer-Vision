{
  "cells": [
    {
      "cell_type": "markdown",
      "metadata": {
        "id": "view-in-github",
        "colab_type": "text"
      },
      "source": [
        "<a href=\"https://colab.research.google.com/github/Jack-Chuang/UW-CSE-455/blob/main/final%20project/Baseline_using_Convolutional_Layer_v1~v7.ipynb\" target=\"_parent\"><img src=\"https://colab.research.google.com/assets/colab-badge.svg\" alt=\"Open In Colab\"/></a>"
      ]
    },
    {
      "cell_type": "code",
      "execution_count": null,
      "id": "2f6043f9",
      "metadata": {
        "id": "2f6043f9"
      },
      "outputs": [],
      "source": [
        "#use MaxPool2D(pool_size=2) to simply the structure of CNN and improve accuracy, and SHORTEN the time of training.\n",
        "#each version will have one more set of a Conv2D and a MaxPool2D \n",
        "\n",
        "#import module & load cifar10\n",
        "\n",
        "import os\n",
        "import numpy as np\n",
        "import matplotlib.pyplot as plt\n",
        "import pandas as pd\n",
        "\n",
        "from keras.models import Sequential, load_model\n",
        "from keras.datasets import cifar10\n",
        "from keras.utils import np_utils\n",
        "from keras.layers import Dense, Dropout, Flatten, Conv2D, MaxPool2D\n",
        "\n",
        "(X_train, Y_train), (X_test, Y_test) = cifar10.load_data()\n",
        "x_train = X_train.astype('float32')/255\n",
        "x_test = X_test.astype('float32')/255\n",
        "y_train = np_utils.to_categorical(Y_train)\n",
        "y_test = np_utils.to_categorical(Y_test)"
      ]
    },
    {
      "cell_type": "code",
      "execution_count": null,
      "id": "85686541",
      "metadata": {
        "id": "85686541",
        "outputId": "b42934fb-8126-4897-a01e-0ba7341a965f"
      },
      "outputs": [
        {
          "name": "stdout",
          "output_type": "stream",
          "text": [
            "Model: \"sequential\"\n",
            "_________________________________________________________________\n",
            " Layer (type)                Output Shape              Param #   \n",
            "=================================================================\n",
            " conv2d (Conv2D)             (None, 32, 32, 16)        448       \n",
            "                                                                 \n",
            " max_pooling2d (MaxPooling2D  (None, 16, 16, 16)       0         \n",
            " )                                                               \n",
            "                                                                 \n",
            " flatten (Flatten)           (None, 4096)              0         \n",
            "                                                                 \n",
            " dense (Dense)               (None, 10)                40970     \n",
            "                                                                 \n",
            "=================================================================\n",
            "Total params: 41,418\n",
            "Trainable params: 41,418\n",
            "Non-trainable params: 0\n",
            "_________________________________________________________________\n",
            "Model: \"sequential\"\n",
            "_________________________________________________________________\n",
            " Layer (type)                Output Shape              Param #   \n",
            "=================================================================\n",
            " conv2d (Conv2D)             (None, 32, 32, 16)        448       \n",
            "                                                                 \n",
            " max_pooling2d (MaxPooling2D  (None, 16, 16, 16)       0         \n",
            " )                                                               \n",
            "                                                                 \n",
            " flatten (Flatten)           (None, 4096)              0         \n",
            "                                                                 \n",
            " dense (Dense)               (None, 10)                40970     \n",
            "                                                                 \n",
            "=================================================================\n",
            "Total params: 41,418\n",
            "Trainable params: 41,418\n",
            "Non-trainable params: 0\n",
            "_________________________________________________________________\n"
          ]
        },
        {
          "ename": "TypeError",
          "evalue": "'NoneType' object is not subscriptable",
          "output_type": "error",
          "traceback": [
            "\u001b[1;31m---------------------------------------------------------------------------\u001b[0m",
            "\u001b[1;31mTypeError\u001b[0m                                 Traceback (most recent call last)",
            "\u001b[1;32m<ipython-input-3-dd2dfc7bc906>\u001b[0m in \u001b[0;36m<module>\u001b[1;34m\u001b[0m\n\u001b[0;32m      7\u001b[0m \u001b[0mmodel1\u001b[0m\u001b[1;33m.\u001b[0m\u001b[0madd\u001b[0m\u001b[1;33m(\u001b[0m\u001b[0mDense\u001b[0m\u001b[1;33m(\u001b[0m\u001b[1;36m10\u001b[0m\u001b[1;33m,\u001b[0m \u001b[0mactivation\u001b[0m\u001b[1;33m=\u001b[0m\u001b[1;34m'softmax'\u001b[0m\u001b[1;33m)\u001b[0m\u001b[1;33m)\u001b[0m\u001b[1;33m\u001b[0m\u001b[1;33m\u001b[0m\u001b[0m\n\u001b[0;32m      8\u001b[0m \u001b[0mmodel1\u001b[0m\u001b[1;33m.\u001b[0m\u001b[0msummary\u001b[0m\u001b[1;33m(\u001b[0m\u001b[1;33m)\u001b[0m\u001b[1;33m\u001b[0m\u001b[1;33m\u001b[0m\u001b[0m\n\u001b[1;32m----> 9\u001b[1;33m \u001b[0mprint\u001b[0m\u001b[1;33m(\u001b[0m\u001b[0mmodel1\u001b[0m\u001b[1;33m.\u001b[0m\u001b[0msummary\u001b[0m\u001b[1;33m(\u001b[0m\u001b[1;33m)\u001b[0m\u001b[1;33m[\u001b[0m\u001b[1;34m'param #'\u001b[0m\u001b[1;33m]\u001b[0m\u001b[1;33m)\u001b[0m\u001b[1;33m\u001b[0m\u001b[1;33m\u001b[0m\u001b[0m\n\u001b[0m\u001b[0;32m     10\u001b[0m \u001b[1;33m\u001b[0m\u001b[0m\n\u001b[0;32m     11\u001b[0m \u001b[0mmodel1\u001b[0m\u001b[1;33m.\u001b[0m\u001b[0mcompile\u001b[0m\u001b[1;33m(\u001b[0m\u001b[0mloss\u001b[0m\u001b[1;33m=\u001b[0m\u001b[1;34m'categorical_crossentropy'\u001b[0m\u001b[1;33m,\u001b[0m \u001b[0moptimizer\u001b[0m\u001b[1;33m=\u001b[0m\u001b[1;34m'adam'\u001b[0m\u001b[1;33m,\u001b[0m \u001b[0mmetrics\u001b[0m\u001b[1;33m=\u001b[0m\u001b[1;33m[\u001b[0m\u001b[1;34m'accuracy'\u001b[0m\u001b[1;33m]\u001b[0m\u001b[1;33m)\u001b[0m\u001b[1;33m\u001b[0m\u001b[1;33m\u001b[0m\u001b[0m\n",
            "\u001b[1;31mTypeError\u001b[0m: 'NoneType' object is not subscriptable"
          ]
        }
      ],
      "source": [
        "#V1, number of layer:1, Filters = 16\n",
        "\n",
        "model1 = Sequential()\n",
        "model1.add(Conv2D(filters=16, kernel_size=3, input_shape=(32, 32, 3), activation='relu', padding='same'))\n",
        "model1.add(MaxPool2D(pool_size=2))\n",
        "model1.add(Flatten())\n",
        "model1.add(Dense(10, activation='softmax'))\n",
        "model1.summary()\n",
        "\n",
        "model1.compile(loss='categorical_crossentropy', optimizer='adam', metrics=['accuracy'])\n",
        "history1 = model1.fit(x_train, y_train, epochs=10, batch_size=64, verbose=1, validation_data=(x_test, y_test),shuffle=True)"
      ]
    },
    {
      "cell_type": "code",
      "execution_count": null,
      "id": "4dc50a99",
      "metadata": {
        "id": "4dc50a99",
        "outputId": "f486e029-1a09-4b3b-876f-bcd504bd1e70"
      },
      "outputs": [
        {
          "name": "stdout",
          "output_type": "stream",
          "text": [
            "Model: \"sequential_5\"\n",
            "_________________________________________________________________\n",
            " Layer (type)                Output Shape              Param #   \n",
            "=================================================================\n",
            " conv2d_8 (Conv2D)           (None, 32, 32, 32)        896       \n",
            "                                                                 \n",
            " max_pooling2d_5 (MaxPooling  (None, 16, 16, 32)       0         \n",
            " 2D)                                                             \n",
            "                                                                 \n",
            " conv2d_9 (Conv2D)           (None, 16, 16, 32)        9248      \n",
            "                                                                 \n",
            " max_pooling2d_6 (MaxPooling  (None, 8, 8, 32)         0         \n",
            " 2D)                                                             \n",
            "                                                                 \n",
            " flatten_4 (Flatten)         (None, 2048)              0         \n",
            "                                                                 \n",
            " dense_4 (Dense)             (None, 10)                20490     \n",
            "                                                                 \n",
            "=================================================================\n",
            "Total params: 30,634\n",
            "Trainable params: 30,634\n",
            "Non-trainable params: 0\n",
            "_________________________________________________________________\n",
            "Epoch 1/10\n",
            "782/782 [==============================] - 26s 33ms/step - loss: 1.5360 - accuracy: 0.4540 - val_loss: 1.3042 - val_accuracy: 0.5334\n",
            "Epoch 2/10\n",
            "782/782 [==============================] - 26s 33ms/step - loss: 1.1968 - accuracy: 0.5807 - val_loss: 1.1337 - val_accuracy: 0.6029\n",
            "Epoch 3/10\n",
            "782/782 [==============================] - 26s 34ms/step - loss: 1.0738 - accuracy: 0.6281 - val_loss: 1.0426 - val_accuracy: 0.6334\n",
            "Epoch 4/10\n",
            "782/782 [==============================] - 26s 34ms/step - loss: 0.9919 - accuracy: 0.6560 - val_loss: 1.0037 - val_accuracy: 0.6509\n",
            "Epoch 5/10\n",
            "782/782 [==============================] - 26s 34ms/step - loss: 0.9385 - accuracy: 0.6741 - val_loss: 1.0101 - val_accuracy: 0.6517\n",
            "Epoch 6/10\n",
            "782/782 [==============================] - 26s 34ms/step - loss: 0.8986 - accuracy: 0.6897 - val_loss: 0.9492 - val_accuracy: 0.6754\n",
            "Epoch 7/10\n",
            "782/782 [==============================] - 27s 34ms/step - loss: 0.8585 - accuracy: 0.7027 - val_loss: 0.9698 - val_accuracy: 0.6694\n",
            "Epoch 8/10\n",
            "782/782 [==============================] - 27s 34ms/step - loss: 0.8317 - accuracy: 0.7143 - val_loss: 1.0003 - val_accuracy: 0.6586\n",
            "Epoch 9/10\n",
            "782/782 [==============================] - 27s 34ms/step - loss: 0.8043 - accuracy: 0.7226 - val_loss: 0.9575 - val_accuracy: 0.6735\n",
            "Epoch 10/10\n",
            "782/782 [==============================] - 27s 34ms/step - loss: 0.7856 - accuracy: 0.7292 - val_loss: 0.9344 - val_accuracy: 0.6792\n"
          ]
        }
      ],
      "source": [
        "#V2, number of layer:2, Filters = 32\n",
        "\n",
        "model2 = Sequential()\n",
        "model2.add(Conv2D(filters=32, kernel_size=3, input_shape=(32, 32, 3), activation='relu', padding='same'))\n",
        "model2.add(MaxPool2D(pool_size=2))\n",
        "model2.add(Conv2D(filters=32, kernel_size=3, input_shape=(32, 32, 3), activation='relu', padding='same'))\n",
        "model2.add(MaxPool2D(pool_size=2))\n",
        "model2.add(Flatten())\n",
        "model2.add(Dense(10, activation='softmax'))\n",
        "model2.summary()\n",
        "\n",
        "model2.compile(loss='categorical_crossentropy', optimizer='adam', metrics=['accuracy'])\n",
        "history2 = model2.fit(x_train, y_train, epochs=10, batch_size=64, verbose=1, validation_data=(x_test, y_test),shuffle=True)"
      ]
    },
    {
      "cell_type": "code",
      "execution_count": null,
      "id": "91fa8485",
      "metadata": {
        "id": "91fa8485",
        "outputId": "75d7bb34-e7f5-40f2-8c3b-d45a32390d79"
      },
      "outputs": [
        {
          "name": "stdout",
          "output_type": "stream",
          "text": [
            "Model: \"sequential_6\"\n",
            "_________________________________________________________________\n",
            " Layer (type)                Output Shape              Param #   \n",
            "=================================================================\n",
            " conv2d_10 (Conv2D)          (None, 32, 32, 48)        1344      \n",
            "                                                                 \n",
            " max_pooling2d_7 (MaxPooling  (None, 16, 16, 48)       0         \n",
            " 2D)                                                             \n",
            "                                                                 \n",
            " conv2d_11 (Conv2D)          (None, 16, 16, 48)        20784     \n",
            "                                                                 \n",
            " max_pooling2d_8 (MaxPooling  (None, 8, 8, 48)         0         \n",
            " 2D)                                                             \n",
            "                                                                 \n",
            " conv2d_12 (Conv2D)          (None, 8, 8, 48)          20784     \n",
            "                                                                 \n",
            " max_pooling2d_9 (MaxPooling  (None, 4, 4, 48)         0         \n",
            " 2D)                                                             \n",
            "                                                                 \n",
            " flatten_5 (Flatten)         (None, 768)               0         \n",
            "                                                                 \n",
            " dense_5 (Dense)             (None, 10)                7690      \n",
            "                                                                 \n",
            "=================================================================\n",
            "Total params: 50,602\n",
            "Trainable params: 50,602\n",
            "Non-trainable params: 0\n",
            "_________________________________________________________________\n",
            "Epoch 1/10\n",
            "782/782 [==============================] - 39s 49ms/step - loss: 1.5311 - accuracy: 0.4477 - val_loss: 1.2740 - val_accuracy: 0.5476\n",
            "Epoch 2/10\n",
            "782/782 [==============================] - 40s 51ms/step - loss: 1.1486 - accuracy: 0.5955 - val_loss: 1.0959 - val_accuracy: 0.6222\n",
            "Epoch 3/10\n",
            "782/782 [==============================] - 40s 52ms/step - loss: 0.9935 - accuracy: 0.6543 - val_loss: 0.9697 - val_accuracy: 0.6709\n",
            "Epoch 4/10\n",
            "782/782 [==============================] - 41s 53ms/step - loss: 0.9093 - accuracy: 0.6863 - val_loss: 0.9759 - val_accuracy: 0.6605\n",
            "Epoch 5/10\n",
            "782/782 [==============================] - 42s 54ms/step - loss: 0.8398 - accuracy: 0.7071 - val_loss: 0.8512 - val_accuracy: 0.7074\n",
            "Epoch 6/10\n",
            "782/782 [==============================] - 42s 54ms/step - loss: 0.7946 - accuracy: 0.7240 - val_loss: 0.8962 - val_accuracy: 0.6899\n",
            "Epoch 7/10\n",
            "782/782 [==============================] - 42s 54ms/step - loss: 0.7510 - accuracy: 0.7409 - val_loss: 0.8264 - val_accuracy: 0.7189\n",
            "Epoch 8/10\n",
            "782/782 [==============================] - 42s 54ms/step - loss: 0.7085 - accuracy: 0.7545 - val_loss: 0.8160 - val_accuracy: 0.7259\n",
            "Epoch 9/10\n",
            "782/782 [==============================] - 42s 54ms/step - loss: 0.6814 - accuracy: 0.7637 - val_loss: 0.8263 - val_accuracy: 0.7225\n",
            "Epoch 10/10\n",
            "782/782 [==============================] - 43s 55ms/step - loss: 0.6529 - accuracy: 0.7736 - val_loss: 0.8366 - val_accuracy: 0.7225\n"
          ]
        }
      ],
      "source": [
        "#V3, number of layer:3, Filters = 48\n",
        "\n",
        "model3 = Sequential()\n",
        "model3.add(Conv2D(filters=48, kernel_size=3, input_shape=(32, 32, 3), activation='relu', padding='same'))\n",
        "model3.add(MaxPool2D(pool_size=2))\n",
        "model3.add(Conv2D(filters=48, kernel_size=3, input_shape=(32, 32, 3), activation='relu', padding='same'))\n",
        "model3.add(MaxPool2D(pool_size=2))\n",
        "model3.add(Conv2D(filters=48, kernel_size=3, input_shape=(32, 32, 3), activation='relu', padding='same'))\n",
        "model3.add(MaxPool2D(pool_size=2))\n",
        "model3.add(Flatten())\n",
        "model3.add(Dense(10, activation='softmax'))\n",
        "model3.summary()\n",
        "\n",
        "model3.compile(loss='categorical_crossentropy', optimizer='adam', metrics=['accuracy'])\n",
        "history3 = model3.fit(x_train, y_train, epochs=10, batch_size=64, verbose=1, validation_data=(x_test, y_test),shuffle=True)"
      ]
    },
    {
      "cell_type": "code",
      "execution_count": null,
      "id": "b4c1089b",
      "metadata": {
        "id": "b4c1089b",
        "outputId": "7126d562-86c6-41c0-e51d-343ee4887beb"
      },
      "outputs": [
        {
          "name": "stdout",
          "output_type": "stream",
          "text": [
            "Model: \"sequential_7\"\n",
            "_________________________________________________________________\n",
            " Layer (type)                Output Shape              Param #   \n",
            "=================================================================\n",
            " conv2d_13 (Conv2D)          (None, 32, 32, 60)        1680      \n",
            "                                                                 \n",
            " max_pooling2d_10 (MaxPoolin  (None, 16, 16, 60)       0         \n",
            " g2D)                                                            \n",
            "                                                                 \n",
            " conv2d_14 (Conv2D)          (None, 16, 16, 60)        32460     \n",
            "                                                                 \n",
            " max_pooling2d_11 (MaxPoolin  (None, 8, 8, 60)         0         \n",
            " g2D)                                                            \n",
            "                                                                 \n",
            " conv2d_15 (Conv2D)          (None, 8, 8, 60)          32460     \n",
            "                                                                 \n",
            " max_pooling2d_12 (MaxPoolin  (None, 4, 4, 60)         0         \n",
            " g2D)                                                            \n",
            "                                                                 \n",
            " conv2d_16 (Conv2D)          (None, 4, 4, 60)          32460     \n",
            "                                                                 \n",
            " max_pooling2d_13 (MaxPoolin  (None, 2, 2, 60)         0         \n",
            " g2D)                                                            \n",
            "                                                                 \n",
            " flatten_6 (Flatten)         (None, 240)               0         \n",
            "                                                                 \n",
            " dense_6 (Dense)             (None, 10)                2410      \n",
            "                                                                 \n",
            "=================================================================\n",
            "Total params: 101,470\n",
            "Trainable params: 101,470\n",
            "Non-trainable params: 0\n",
            "_________________________________________________________________\n",
            "Epoch 1/10\n",
            "782/782 [==============================] - 53s 67ms/step - loss: 1.5546 - accuracy: 0.4319 - val_loss: 1.2292 - val_accuracy: 0.5585\n",
            "Epoch 2/10\n",
            "782/782 [==============================] - 55s 70ms/step - loss: 1.1393 - accuracy: 0.5962 - val_loss: 1.0554 - val_accuracy: 0.6229\n",
            "Epoch 3/10\n",
            "782/782 [==============================] - 55s 71ms/step - loss: 0.9629 - accuracy: 0.6605 - val_loss: 0.9619 - val_accuracy: 0.6606\n",
            "Epoch 4/10\n",
            "782/782 [==============================] - 56s 71ms/step - loss: 0.8624 - accuracy: 0.6972 - val_loss: 0.8998 - val_accuracy: 0.6848\n",
            "Epoch 5/10\n",
            "782/782 [==============================] - 56s 71ms/step - loss: 0.7854 - accuracy: 0.7250 - val_loss: 0.8471 - val_accuracy: 0.7041\n",
            "Epoch 6/10\n",
            "782/782 [==============================] - 56s 71ms/step - loss: 0.7244 - accuracy: 0.7469 - val_loss: 0.8149 - val_accuracy: 0.7196\n",
            "Epoch 7/10\n",
            "782/782 [==============================] - 56s 71ms/step - loss: 0.6634 - accuracy: 0.7678 - val_loss: 0.8171 - val_accuracy: 0.7189\n",
            "Epoch 8/10\n",
            "782/782 [==============================] - 56s 71ms/step - loss: 0.6252 - accuracy: 0.7825 - val_loss: 0.8138 - val_accuracy: 0.7224\n",
            "Epoch 9/10\n",
            "782/782 [==============================] - 56s 71ms/step - loss: 0.5764 - accuracy: 0.8002 - val_loss: 0.8264 - val_accuracy: 0.7218\n",
            "Epoch 10/10\n",
            "782/782 [==============================] - 57s 73ms/step - loss: 0.5388 - accuracy: 0.8120 - val_loss: 0.8296 - val_accuracy: 0.7301\n"
          ]
        }
      ],
      "source": [
        "#V4, number of layer:4, Filters = 60\n",
        "\n",
        "model4 = Sequential()\n",
        "model4.add(Conv2D(filters=60, kernel_size=3, input_shape=(32, 32, 3), activation='relu', padding='same'))\n",
        "model4.add(MaxPool2D(pool_size=2))\n",
        "model4.add(Conv2D(filters=60, kernel_size=3, input_shape=(32, 32, 3), activation='relu', padding='same'))\n",
        "model4.add(MaxPool2D(pool_size=2))\n",
        "model4.add(Conv2D(filters=60, kernel_size=3, input_shape=(32, 32, 3), activation='relu', padding='same'))\n",
        "model4.add(MaxPool2D(pool_size=2))\n",
        "model4.add(Conv2D(filters=60, kernel_size=3, input_shape=(32, 32, 3), activation='relu', padding='same'))\n",
        "model4.add(MaxPool2D(pool_size=2))\n",
        "model4.add(Flatten())\n",
        "model4.add(Dense(10, activation='softmax'))\n",
        "model4.summary()\n",
        "\n",
        "model4.compile(loss='categorical_crossentropy', optimizer='adam', metrics=['accuracy'])\n",
        "history4 = model4.fit(x_train, y_train, epochs=10, batch_size=64, verbose=1, validation_data=(x_test, y_test),shuffle=True)"
      ]
    },
    {
      "cell_type": "code",
      "execution_count": null,
      "id": "143d739f",
      "metadata": {
        "id": "143d739f",
        "outputId": "6431f0ef-c479-4908-fb55-35aa73f4c4ac"
      },
      "outputs": [
        {
          "ename": "NameError",
          "evalue": "name 'Sequential' is not defined",
          "output_type": "error",
          "traceback": [
            "\u001b[1;31m---------------------------------------------------------------------------\u001b[0m",
            "\u001b[1;31mNameError\u001b[0m                                 Traceback (most recent call last)",
            "\u001b[1;32m<ipython-input-1-6565f51f31e3>\u001b[0m in \u001b[0;36m<module>\u001b[1;34m\u001b[0m\n\u001b[0;32m      1\u001b[0m \u001b[1;31m#V5, number of layer:5, Filters = 72\u001b[0m\u001b[1;33m\u001b[0m\u001b[1;33m\u001b[0m\u001b[1;33m\u001b[0m\u001b[0m\n\u001b[0;32m      2\u001b[0m \u001b[1;33m\u001b[0m\u001b[0m\n\u001b[1;32m----> 3\u001b[1;33m \u001b[0mmodel5\u001b[0m \u001b[1;33m=\u001b[0m \u001b[0mSequential\u001b[0m\u001b[1;33m(\u001b[0m\u001b[1;33m)\u001b[0m\u001b[1;33m\u001b[0m\u001b[1;33m\u001b[0m\u001b[0m\n\u001b[0m\u001b[0;32m      4\u001b[0m \u001b[0mmodel5\u001b[0m\u001b[1;33m.\u001b[0m\u001b[0madd\u001b[0m\u001b[1;33m(\u001b[0m\u001b[0mConv2D\u001b[0m\u001b[1;33m(\u001b[0m\u001b[0mfilters\u001b[0m\u001b[1;33m=\u001b[0m\u001b[1;36m72\u001b[0m\u001b[1;33m,\u001b[0m \u001b[0mkernel_size\u001b[0m\u001b[1;33m=\u001b[0m\u001b[1;36m3\u001b[0m\u001b[1;33m,\u001b[0m \u001b[0minput_shape\u001b[0m\u001b[1;33m=\u001b[0m\u001b[1;33m(\u001b[0m\u001b[1;36m32\u001b[0m\u001b[1;33m,\u001b[0m \u001b[1;36m32\u001b[0m\u001b[1;33m,\u001b[0m \u001b[1;36m3\u001b[0m\u001b[1;33m)\u001b[0m\u001b[1;33m,\u001b[0m \u001b[0mactivation\u001b[0m\u001b[1;33m=\u001b[0m\u001b[1;34m'relu'\u001b[0m\u001b[1;33m,\u001b[0m \u001b[0mpadding\u001b[0m\u001b[1;33m=\u001b[0m\u001b[1;34m'same'\u001b[0m\u001b[1;33m)\u001b[0m\u001b[1;33m)\u001b[0m\u001b[1;33m\u001b[0m\u001b[1;33m\u001b[0m\u001b[0m\n\u001b[0;32m      5\u001b[0m \u001b[0mmodel5\u001b[0m\u001b[1;33m.\u001b[0m\u001b[0madd\u001b[0m\u001b[1;33m(\u001b[0m\u001b[0mMaxPool2D\u001b[0m\u001b[1;33m(\u001b[0m\u001b[0mpool_size\u001b[0m\u001b[1;33m=\u001b[0m\u001b[1;36m2\u001b[0m\u001b[1;33m)\u001b[0m\u001b[1;33m)\u001b[0m\u001b[1;33m\u001b[0m\u001b[1;33m\u001b[0m\u001b[0m\n",
            "\u001b[1;31mNameError\u001b[0m: name 'Sequential' is not defined"
          ]
        }
      ],
      "source": [
        "#V5, number of layer:5, Filters = 72\n",
        "\n",
        "model5 = Sequential()\n",
        "model5.add(Conv2D(filters=72, kernel_size=3, input_shape=(32, 32, 3), activation='relu', padding='same'))\n",
        "model5.add(MaxPool2D(pool_size=2))\n",
        "model5.add(Conv2D(filters=72, kernel_size=3, input_shape=(32, 32, 3), activation='relu', padding='same'))\n",
        "model5.add(MaxPool2D(pool_size=2))\n",
        "model5.add(Conv2D(filters=72, kernel_size=3, input_shape=(32, 32, 3), activation='relu', padding='same'))\n",
        "model5.add(MaxPool2D(pool_size=2))\n",
        "model5.add(Conv2D(filters=72, kernel_size=3, input_shape=(32, 32, 3), activation='relu', padding='same'))\n",
        "model5.add(MaxPool2D(pool_size=2))\n",
        "model5.add(Conv2D(filters=72, kernel_size=3, input_shape=(32, 32, 3), activation='relu', padding='same'))\n",
        "model5.add(MaxPool2D(pool_size=2))\n",
        "model5.add(Flatten())\n",
        "model5.add(Dense(10, activation='softmax'))\n",
        "model5.summary()\n",
        "\n",
        "model5.compile(loss='categorical_crossentropy', optimizer='adam', metrics=['accuracy'])\n",
        "history5 = model5.fit(x_train, y_train, epochs=10, batch_size=64, verbose=1, validation_data=(x_test, y_test),shuffle=True)"
      ]
    },
    {
      "cell_type": "code",
      "execution_count": null,
      "id": "22032742",
      "metadata": {
        "id": "22032742",
        "outputId": "7d40a484-0d7c-4ce7-a505-3684ba048b5d"
      },
      "outputs": [
        {
          "name": "stdout",
          "output_type": "stream",
          "text": [
            "Model: \"sequential_10\"\n",
            "_________________________________________________________________\n",
            " Layer (type)                Output Shape              Param #   \n",
            "=================================================================\n",
            " conv2d_28 (Conv2D)          (None, 32, 32, 84)        2352      \n",
            "                                                                 \n",
            " max_pooling2d_25 (MaxPoolin  (None, 16, 16, 84)       0         \n",
            " g2D)                                                            \n",
            "                                                                 \n",
            " conv2d_29 (Conv2D)          (None, 16, 16, 84)        63588     \n",
            "                                                                 \n",
            " max_pooling2d_26 (MaxPoolin  (None, 8, 8, 84)         0         \n",
            " g2D)                                                            \n",
            "                                                                 \n",
            " conv2d_30 (Conv2D)          (None, 8, 8, 84)          63588     \n",
            "                                                                 \n",
            " max_pooling2d_27 (MaxPoolin  (None, 4, 4, 84)         0         \n",
            " g2D)                                                            \n",
            "                                                                 \n",
            " conv2d_31 (Conv2D)          (None, 4, 4, 84)          63588     \n",
            "                                                                 \n",
            " max_pooling2d_28 (MaxPoolin  (None, 2, 2, 84)         0         \n",
            " g2D)                                                            \n",
            "                                                                 \n",
            " conv2d_32 (Conv2D)          (None, 2, 2, 84)          63588     \n",
            "                                                                 \n",
            " conv2d_33 (Conv2D)          (None, 2, 2, 84)          63588     \n",
            "                                                                 \n",
            " max_pooling2d_29 (MaxPoolin  (None, 1, 1, 84)         0         \n",
            " g2D)                                                            \n",
            "                                                                 \n",
            " flatten_8 (Flatten)         (None, 84)                0         \n",
            "                                                                 \n",
            " dense_8 (Dense)             (None, 10)                850       \n",
            "                                                                 \n",
            "=================================================================\n",
            "Total params: 321,142\n",
            "Trainable params: 321,142\n",
            "Non-trainable params: 0\n",
            "_________________________________________________________________\n",
            "Epoch 1/10\n",
            "782/782 [==============================] - 77s 98ms/step - loss: 1.5576 - accuracy: 0.4229 - val_loss: 1.3315 - val_accuracy: 0.5160\n",
            "Epoch 2/10\n",
            "782/782 [==============================] - 79s 101ms/step - loss: 1.0984 - accuracy: 0.6066 - val_loss: 1.0619 - val_accuracy: 0.6190\n",
            "Epoch 3/10\n",
            "782/782 [==============================] - 80s 102ms/step - loss: 0.9075 - accuracy: 0.6798 - val_loss: 0.8766 - val_accuracy: 0.6892\n",
            "Epoch 4/10\n",
            "782/782 [==============================] - 80s 103ms/step - loss: 0.7846 - accuracy: 0.7224 - val_loss: 0.9061 - val_accuracy: 0.6843\n",
            "Epoch 5/10\n",
            "782/782 [==============================] - 80s 103ms/step - loss: 0.6822 - accuracy: 0.7606 - val_loss: 0.8161 - val_accuracy: 0.7168\n",
            "Epoch 6/10\n",
            "782/782 [==============================] - 81s 103ms/step - loss: 0.6138 - accuracy: 0.7846 - val_loss: 0.7812 - val_accuracy: 0.7288\n",
            "Epoch 7/10\n",
            "782/782 [==============================] - 81s 103ms/step - loss: 0.5471 - accuracy: 0.8059 - val_loss: 0.8172 - val_accuracy: 0.7267\n",
            "Epoch 8/10\n",
            "782/782 [==============================] - 80s 102ms/step - loss: 0.4872 - accuracy: 0.8256 - val_loss: 0.8436 - val_accuracy: 0.7255\n",
            "Epoch 9/10\n",
            "782/782 [==============================] - 80s 102ms/step - loss: 0.4360 - accuracy: 0.8445 - val_loss: 0.8007 - val_accuracy: 0.7391\n",
            "Epoch 10/10\n",
            "782/782 [==============================] - 80s 102ms/step - loss: 0.3830 - accuracy: 0.8634 - val_loss: 0.8616 - val_accuracy: 0.7347\n"
          ]
        }
      ],
      "source": [
        "#V6, number of layer:6, Filters = 84\n",
        "\n",
        "model6 = Sequential()\n",
        "model6.add(Conv2D(filters=84, kernel_size=3, input_shape=(32, 32, 3), activation='relu', padding='same'))\n",
        "model6.add(MaxPool2D(pool_size=2))\n",
        "model6.add(Conv2D(filters=84, kernel_size=3, input_shape=(32, 32, 3), activation='relu', padding='same'))\n",
        "model6.add(MaxPool2D(pool_size=2))\n",
        "model6.add(Conv2D(filters=84, kernel_size=3, input_shape=(32, 32, 3), activation='relu', padding='same'))\n",
        "model6.add(MaxPool2D(pool_size=2))\n",
        "model6.add(Conv2D(filters=84, kernel_size=3, input_shape=(32, 32, 3), activation='relu', padding='same'))\n",
        "model6.add(MaxPool2D(pool_size=2))\n",
        "model6.add(Conv2D(filters=84, kernel_size=3, input_shape=(32, 32, 3), activation='relu', padding='same'))\n",
        "#model6.add(MaxPool2D(pool_size=2))\n",
        "model6.add(Conv2D(filters=84, kernel_size=3, input_shape=(32, 32, 3), activation='relu', padding='same'))\n",
        "model6.add(MaxPool2D(pool_size=2))\n",
        "model6.add(Flatten())\n",
        "model6.add(Dense(10, activation='softmax'))\n",
        "model6.summary()\n",
        "\n",
        "model6.compile(loss='categorical_crossentropy', optimizer='adam', metrics=['accuracy'])\n",
        "history6 = model6.fit(x_train, y_train, epochs=10, batch_size=64, verbose=1, validation_data=(x_test, y_test),shuffle=True)"
      ]
    },
    {
      "cell_type": "code",
      "execution_count": null,
      "id": "b6af7445",
      "metadata": {
        "id": "b6af7445",
        "outputId": "d8cbb50c-d14a-496d-9ed5-c536df90e0cf"
      },
      "outputs": [
        {
          "name": "stdout",
          "output_type": "stream",
          "text": [
            "Model: \"sequential_2\"\n",
            "_________________________________________________________________\n",
            " Layer (type)                Output Shape              Param #   \n",
            "=================================================================\n",
            " conv2d_7 (Conv2D)           (None, 32, 32, 84)        2352      \n",
            "                                                                 \n",
            " max_pooling2d_6 (MaxPooling  (None, 16, 16, 84)       0         \n",
            " 2D)                                                             \n",
            "                                                                 \n",
            " conv2d_8 (Conv2D)           (None, 16, 16, 84)        63588     \n",
            "                                                                 \n",
            " max_pooling2d_7 (MaxPooling  (None, 8, 8, 84)         0         \n",
            " 2D)                                                             \n",
            "                                                                 \n",
            " conv2d_9 (Conv2D)           (None, 8, 8, 84)          63588     \n",
            "                                                                 \n",
            " max_pooling2d_8 (MaxPooling  (None, 4, 4, 84)         0         \n",
            " 2D)                                                             \n",
            "                                                                 \n",
            " conv2d_10 (Conv2D)          (None, 4, 4, 84)          63588     \n",
            "                                                                 \n",
            " max_pooling2d_9 (MaxPooling  (None, 2, 2, 84)         0         \n",
            " 2D)                                                             \n",
            "                                                                 \n",
            " conv2d_11 (Conv2D)          (None, 2, 2, 84)          63588     \n",
            "                                                                 \n",
            " conv2d_12 (Conv2D)          (None, 2, 2, 84)          63588     \n",
            "                                                                 \n",
            " max_pooling2d_10 (MaxPoolin  (None, 1, 1, 84)         0         \n",
            " g2D)                                                            \n",
            "                                                                 \n",
            " flatten_2 (Flatten)         (None, 84)                0         \n",
            "                                                                 \n",
            " dense_2 (Dense)             (None, 10)                850       \n",
            "                                                                 \n",
            "=================================================================\n",
            "Total params: 321,142\n",
            "Trainable params: 321,142\n",
            "Non-trainable params: 0\n",
            "_________________________________________________________________\n",
            "Accuracy: 0.095080\n",
            "Loss: 2.305804\n"
          ]
        }
      ],
      "source": [
        "model6 = Sequential()\n",
        "model6.add(Conv2D(filters=84, kernel_size=3, input_shape=(32, 32, 3), activation='relu', padding='same'))\n",
        "model6.add(MaxPool2D(pool_size=2))\n",
        "model6.add(Conv2D(filters=84, kernel_size=3, input_shape=(32, 32, 3), activation='relu', padding='same'))\n",
        "model6.add(MaxPool2D(pool_size=2))\n",
        "model6.add(Conv2D(filters=84, kernel_size=3, input_shape=(32, 32, 3), activation='relu', padding='same'))\n",
        "model6.add(MaxPool2D(pool_size=2))\n",
        "model6.add(Conv2D(filters=84, kernel_size=3, input_shape=(32, 32, 3), activation='relu', padding='same'))\n",
        "model6.add(MaxPool2D(pool_size=2))\n",
        "model6.add(Conv2D(filters=84, kernel_size=3, input_shape=(32, 32, 3), activation='relu', padding='same'))\n",
        "#model6.add(MaxPool2D(pool_size=2))\n",
        "model6.add(Conv2D(filters=84, kernel_size=3, input_shape=(32, 32, 3), activation='relu', padding='same'))\n",
        "model6.add(MaxPool2D(pool_size=2))\n",
        "model6.add(Flatten())\n",
        "model6.add(Dense(10, activation='softmax'))\n",
        "model6.summary()\n",
        "\n",
        "model6.compile(loss='categorical_crossentropy', optimizer='adam', metrics=['accuracy'])\n",
        "loss, accuracy = model6.evaluate(x_train, y_train, verbose=0)\n",
        "print('Accuracy: %f' % (accuracy))\n",
        "print('Loss: %f' % (loss))"
      ]
    },
    {
      "cell_type": "code",
      "execution_count": null,
      "id": "841e89c8",
      "metadata": {
        "id": "841e89c8",
        "outputId": "66332204-55cc-4cd6-83dd-7158496f8295"
      },
      "outputs": [
        {
          "data": {
            "image/png": "[encoded data removed]",
            "text/plain": [
              "<Figure size 432x288 with 1 Axes>"
            ]
          },
          "metadata": {
            "needs_background": "light"
          },
          "output_type": "display_data"
        }
      ],
      "source": [
        "plt.plot(history1.history['val_accuracy'])\n",
        "plt.plot(history2.history['val_accuracy'])\n",
        "plt.plot(history3.history['val_accuracy'])\n",
        "plt.plot(history4.history['val_accuracy'])\n",
        "plt.plot(history5.history['val_accuracy'])\n",
        "plt.plot(history6.history['val_accuracy'])\n",
        "\n",
        "plt.title('Model Accuracy v1~v6 Using Convolutional Layer')\n",
        "plt.ylabel('Accuracy')\n",
        "plt.xlabel('Epoch')\n",
        "plt.legend(['v1', 'v2','v3','v4','v5','v6'], loc='upper left')\n",
        "plt.show()"
      ]
    },
    {
      "cell_type": "code",
      "execution_count": null,
      "id": "32d302a5",
      "metadata": {
        "id": "32d302a5",
        "outputId": "5198c120-abfb-4eb6-bc56-07891d196c47"
      },
      "outputs": [
        {
          "data": {
            "image/png": "[encoded data removed]",
            "text/plain": [
              "<Figure size 432x288 with 1 Axes>"
            ]
          },
          "metadata": {
            "needs_background": "light"
          },
          "output_type": "display_data"
        }
      ],
      "source": [
        "parameter_number = [30634, 50602, 101470, 189658, 321142]\n",
        "val_accuracy = [history2.history['val_accuracy'][9],history3.history['val_accuracy'][9],history4.history['val_accuracy'][9],history5.history['val_accuracy'][9],history6.history['val_accuracy'][9]]\n",
        "\n",
        "plt.plot(parameter_number,val_accuracy)\n",
        "plt.title('Model Accuracy v.s. Number of Parameters')\n",
        "plt.ylabel('Accuracy')\n",
        "plt.xlabel('Number of Tunable Parameters')\n",
        "\n",
        "plt.show()"
      ]
    }
  ],
  "metadata": {
    "kernelspec": {
      "display_name": "Python 3",
      "language": "python",
      "name": "python3"
    },
    "language_info": {
      "codemirror_mode": {
        "name": "ipython",
        "version": 3
      },
      "file_extension": ".py",
      "mimetype": "text/x-python",
      "name": "python",
      "nbconvert_exporter": "python",
      "pygments_lexer": "ipython3",
      "version": "3.8.8"
    },
    "colab": {
      "name": "Baseline using Convolutional Layer v1~v7.ipynb",
      "provenance": [],
      "include_colab_link": true
    }
  },
  "nbformat": 4,
  "nbformat_minor": 5
}
